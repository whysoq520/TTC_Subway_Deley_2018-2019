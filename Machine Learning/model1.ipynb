{
 "cells": [
  {
   "cell_type": "code",
   "execution_count": 1,
   "metadata": {},
   "outputs": [],
   "source": [
    "## what is the probability of deley happens at certain station/time, to predict how many minutes will be deley? "
   ]
  },
  {
   "cell_type": "code",
   "execution_count": 1,
   "metadata": {},
   "outputs": [],
   "source": [
    "import pandas as pd"
   ]
  },
  {
   "cell_type": "markdown",
   "metadata": {},
   "source": [
    "# Read the CSV"
   ]
  },
  {
   "cell_type": "code",
   "execution_count": 2,
   "metadata": {},
   "outputs": [
    {
     "data": {
      "text/plain": [
       "(13732, 20)"
      ]
     },
     "execution_count": 2,
     "metadata": {},
     "output_type": "execute_result"
    }
   ],
   "source": [
    "# the dataset used contains all delays under 30 mins. \n",
    "df = pd.read_csv(\"../Data/ttc_subway_delay_2018_2019.csv\", encoding='unicode_escape')\n",
    "# Drop the null columns where all values are null\n",
    "df.shape\n"
   ]
  },
  {
   "cell_type": "code",
   "execution_count": 4,
   "metadata": {},
   "outputs": [
    {
     "data": {
      "text/plain": [
       "id              13732\n",
       "date              730\n",
       "time             1279\n",
       "day                 7\n",
       "station            81\n",
       "code              181\n",
       "min_delay         116\n",
       "min_gap           125\n",
       "bound               4\n",
       "line                4\n",
       "vehicle           636\n",
       "code_info         133\n",
       "latitude           74\n",
       "longitude          76\n",
       "line_name           4\n",
       "month              12\n",
       "time_range          6\n",
       "month_number       12\n",
       "hour               24\n",
       "year                2\n",
       "dtype: int64"
      ]
     },
     "execution_count": 4,
     "metadata": {},
     "output_type": "execute_result"
    }
   ],
   "source": [
    "df.nunique()"
   ]
  },
  {
   "cell_type": "code",
   "execution_count": 5,
   "metadata": {},
   "outputs": [
    {
     "data": {
      "text/html": [
       "<div>\n",
       "<style scoped>\n",
       "    .dataframe tbody tr th:only-of-type {\n",
       "        vertical-align: middle;\n",
       "    }\n",
       "\n",
       "    .dataframe tbody tr th {\n",
       "        vertical-align: top;\n",
       "    }\n",
       "\n",
       "    .dataframe thead th {\n",
       "        text-align: right;\n",
       "    }\n",
       "</style>\n",
       "<table border=\"1\" class=\"dataframe\">\n",
       "  <thead>\n",
       "    <tr style=\"text-align: right;\">\n",
       "      <th></th>\n",
       "      <th>id</th>\n",
       "      <th>date</th>\n",
       "      <th>time</th>\n",
       "      <th>day</th>\n",
       "      <th>station</th>\n",
       "      <th>code</th>\n",
       "      <th>min_delay</th>\n",
       "      <th>min_gap</th>\n",
       "      <th>bound</th>\n",
       "      <th>line</th>\n",
       "      <th>vehicle</th>\n",
       "      <th>code_info</th>\n",
       "      <th>latitude</th>\n",
       "      <th>longitude</th>\n",
       "      <th>line_name</th>\n",
       "      <th>month</th>\n",
       "      <th>time_range</th>\n",
       "      <th>month_number</th>\n",
       "      <th>hour</th>\n",
       "      <th>year</th>\n",
       "    </tr>\n",
       "  </thead>\n",
       "  <tbody>\n",
       "    <tr>\n",
       "      <td>0</td>\n",
       "      <td>1</td>\n",
       "      <td>2019-01-01</td>\n",
       "      <td>3:03</td>\n",
       "      <td>Tuesday</td>\n",
       "      <td>DUPONT STATION</td>\n",
       "      <td>MUATC</td>\n",
       "      <td>11</td>\n",
       "      <td>16</td>\n",
       "      <td>N</td>\n",
       "      <td>YU</td>\n",
       "      <td>6061</td>\n",
       "      <td>ATC Project</td>\n",
       "      <td>43.674584</td>\n",
       "      <td>-79.40683</td>\n",
       "      <td>Yonge University Spadina</td>\n",
       "      <td>January</td>\n",
       "      <td>9PM-1:30AM</td>\n",
       "      <td>1</td>\n",
       "      <td>3</td>\n",
       "      <td>2019</td>\n",
       "    </tr>\n",
       "    <tr>\n",
       "      <td>1</td>\n",
       "      <td>2</td>\n",
       "      <td>2019-01-01</td>\n",
       "      <td>3:08</td>\n",
       "      <td>Tuesday</td>\n",
       "      <td>EGLINTON WEST STATION</td>\n",
       "      <td>EUATC</td>\n",
       "      <td>11</td>\n",
       "      <td>16</td>\n",
       "      <td>S</td>\n",
       "      <td>YU</td>\n",
       "      <td>5656</td>\n",
       "      <td>ATC RC&amp;S Equipment</td>\n",
       "      <td>43.699209</td>\n",
       "      <td>-79.435819</td>\n",
       "      <td>Yonge University Spadina</td>\n",
       "      <td>January</td>\n",
       "      <td>9PM-1:30AM</td>\n",
       "      <td>1</td>\n",
       "      <td>3</td>\n",
       "      <td>2019</td>\n",
       "    </tr>\n",
       "  </tbody>\n",
       "</table>\n",
       "</div>"
      ],
      "text/plain": [
       "   id        date  time      day                station   code  min_delay  \\\n",
       "0   1  2019-01-01  3:03  Tuesday         DUPONT STATION  MUATC         11   \n",
       "1   2  2019-01-01  3:08  Tuesday  EGLINTON WEST STATION  EUATC         11   \n",
       "\n",
       "   min_gap bound line  vehicle           code_info   latitude   longitude  \\\n",
       "0       16     N   YU     6061         ATC Project  43.674584   -79.40683   \n",
       "1       16     S   YU     5656  ATC RC&S Equipment  43.699209  -79.435819   \n",
       "\n",
       "                  line_name    month  time_range  month_number  hour  year  \n",
       "0  Yonge University Spadina  January  9PM-1:30AM             1     3  2019  \n",
       "1  Yonge University Spadina  January  9PM-1:30AM             1     3  2019  "
      ]
     },
     "execution_count": 5,
     "metadata": {},
     "output_type": "execute_result"
    }
   ],
   "source": [
    "# Drop the null columns where all values are null\n",
    "df= df.dropna(axis='columns', how='all')\n",
    "df.head(2)\n"
   ]
  },
  {
   "cell_type": "code",
   "execution_count": 8,
   "metadata": {},
   "outputs": [
    {
     "data": {
      "text/html": [
       "<div>\n",
       "<style scoped>\n",
       "    .dataframe tbody tr th:only-of-type {\n",
       "        vertical-align: middle;\n",
       "    }\n",
       "\n",
       "    .dataframe tbody tr th {\n",
       "        vertical-align: top;\n",
       "    }\n",
       "\n",
       "    .dataframe thead th {\n",
       "        text-align: right;\n",
       "    }\n",
       "</style>\n",
       "<table border=\"1\" class=\"dataframe\">\n",
       "  <thead>\n",
       "    <tr style=\"text-align: right;\">\n",
       "      <th></th>\n",
       "      <th>id</th>\n",
       "      <th>min_delay</th>\n",
       "      <th>min_gap</th>\n",
       "      <th>vehicle</th>\n",
       "      <th>latitude</th>\n",
       "      <th>month_number</th>\n",
       "      <th>hour</th>\n",
       "      <th>year</th>\n",
       "    </tr>\n",
       "  </thead>\n",
       "  <tbody>\n",
       "    <tr>\n",
       "      <td>count</td>\n",
       "      <td>13732.000000</td>\n",
       "      <td>13732.000000</td>\n",
       "      <td>13732.000000</td>\n",
       "      <td>13732.000000</td>\n",
       "      <td>13253.000000</td>\n",
       "      <td>13732.000000</td>\n",
       "      <td>13732.000000</td>\n",
       "      <td>13732.000000</td>\n",
       "    </tr>\n",
       "    <tr>\n",
       "      <td>mean</td>\n",
       "      <td>6866.500000</td>\n",
       "      <td>6.641931</td>\n",
       "      <td>9.850495</td>\n",
       "      <td>5189.117536</td>\n",
       "      <td>43.703612</td>\n",
       "      <td>6.382391</td>\n",
       "      <td>12.829231</td>\n",
       "      <td>2018.486164</td>\n",
       "    </tr>\n",
       "    <tr>\n",
       "      <td>std</td>\n",
       "      <td>3964.231283</td>\n",
       "      <td>12.015825</td>\n",
       "      <td>12.137669</td>\n",
       "      <td>1198.676152</td>\n",
       "      <td>0.045908</td>\n",
       "      <td>3.438495</td>\n",
       "      <td>5.963210</td>\n",
       "      <td>0.499827</td>\n",
       "    </tr>\n",
       "    <tr>\n",
       "      <td>min</td>\n",
       "      <td>1.000000</td>\n",
       "      <td>2.000000</td>\n",
       "      <td>0.000000</td>\n",
       "      <td>0.000000</td>\n",
       "      <td>43.637222</td>\n",
       "      <td>1.000000</td>\n",
       "      <td>0.000000</td>\n",
       "      <td>2018.000000</td>\n",
       "    </tr>\n",
       "    <tr>\n",
       "      <td>25%</td>\n",
       "      <td>3433.750000</td>\n",
       "      <td>3.000000</td>\n",
       "      <td>6.000000</td>\n",
       "      <td>5144.000000</td>\n",
       "      <td>43.667222</td>\n",
       "      <td>3.000000</td>\n",
       "      <td>8.000000</td>\n",
       "      <td>2018.000000</td>\n",
       "    </tr>\n",
       "    <tr>\n",
       "      <td>50%</td>\n",
       "      <td>6866.500000</td>\n",
       "      <td>4.000000</td>\n",
       "      <td>8.000000</td>\n",
       "      <td>5416.000000</td>\n",
       "      <td>43.687778</td>\n",
       "      <td>6.000000</td>\n",
       "      <td>13.000000</td>\n",
       "      <td>2018.000000</td>\n",
       "    </tr>\n",
       "    <tr>\n",
       "      <td>75%</td>\n",
       "      <td>10299.250000</td>\n",
       "      <td>6.000000</td>\n",
       "      <td>10.000000</td>\n",
       "      <td>5796.000000</td>\n",
       "      <td>43.734167</td>\n",
       "      <td>9.000000</td>\n",
       "      <td>18.000000</td>\n",
       "      <td>2019.000000</td>\n",
       "    </tr>\n",
       "    <tr>\n",
       "      <td>max</td>\n",
       "      <td>13732.000000</td>\n",
       "      <td>515.000000</td>\n",
       "      <td>519.000000</td>\n",
       "      <td>8065.000000</td>\n",
       "      <td>43.794167</td>\n",
       "      <td>12.000000</td>\n",
       "      <td>23.000000</td>\n",
       "      <td>2019.000000</td>\n",
       "    </tr>\n",
       "  </tbody>\n",
       "</table>\n",
       "</div>"
      ],
      "text/plain": [
       "                 id     min_delay       min_gap       vehicle      latitude  \\\n",
       "count  13732.000000  13732.000000  13732.000000  13732.000000  13253.000000   \n",
       "mean    6866.500000      6.641931      9.850495   5189.117536     43.703612   \n",
       "std     3964.231283     12.015825     12.137669   1198.676152      0.045908   \n",
       "min        1.000000      2.000000      0.000000      0.000000     43.637222   \n",
       "25%     3433.750000      3.000000      6.000000   5144.000000     43.667222   \n",
       "50%     6866.500000      4.000000      8.000000   5416.000000     43.687778   \n",
       "75%    10299.250000      6.000000     10.000000   5796.000000     43.734167   \n",
       "max    13732.000000    515.000000    519.000000   8065.000000     43.794167   \n",
       "\n",
       "       month_number          hour          year  \n",
       "count  13732.000000  13732.000000  13732.000000  \n",
       "mean       6.382391     12.829231   2018.486164  \n",
       "std        3.438495      5.963210      0.499827  \n",
       "min        1.000000      0.000000   2018.000000  \n",
       "25%        3.000000      8.000000   2018.000000  \n",
       "50%        6.000000     13.000000   2018.000000  \n",
       "75%        9.000000     18.000000   2019.000000  \n",
       "max       12.000000     23.000000   2019.000000  "
      ]
     },
     "execution_count": 8,
     "metadata": {},
     "output_type": "execute_result"
    }
   ],
   "source": [
    "# Drop the null columns where all values are null\n",
    "df= df.dropna(axis='rows', how='all')\n",
    "df.describe()"
   ]
  },
  {
   "cell_type": "code",
   "execution_count": 7,
   "metadata": {},
   "outputs": [
    {
     "data": {
      "text/plain": [
       "519"
      ]
     },
     "execution_count": 7,
     "metadata": {},
     "output_type": "execute_result"
    }
   ],
   "source": [
    "max(df['min_gap'])"
   ]
  },
  {
   "cell_type": "code",
   "execution_count": 13,
   "metadata": {},
   "outputs": [
    {
     "data": {
      "text/plain": [
       "id              13500\n",
       "date            13500\n",
       "time            13500\n",
       "day             13500\n",
       "station         13500\n",
       "code            13500\n",
       "min_delay       13500\n",
       "min_gap         13500\n",
       "bound           13362\n",
       "line            13499\n",
       "vehicle         13500\n",
       "code_info       13436\n",
       "latitude        13027\n",
       "longitude       13027\n",
       "line_name       13499\n",
       "month           13500\n",
       "time_range      13500\n",
       "month_number    13500\n",
       "hour            13500\n",
       "year            13500\n",
       "Time            13500\n",
       "Time_group      12671\n",
       "dtype: int64"
      ]
     },
     "execution_count": 13,
     "metadata": {},
     "output_type": "execute_result"
    }
   ],
   "source": [
    "df = df.loc[(df['min_delay']<30)]\n",
    "df.count()"
   ]
  },
  {
   "cell_type": "code",
   "execution_count": 14,
   "metadata": {},
   "outputs": [],
   "source": [
    "df['Time'] = df['hour'].apply(lambda x: x if x > 5 else x+24)"
   ]
  },
  {
   "cell_type": "code",
   "execution_count": 9,
   "metadata": {},
   "outputs": [
    {
     "data": {
      "text/plain": [
       "6"
      ]
     },
     "execution_count": 9,
     "metadata": {},
     "output_type": "execute_result"
    }
   ],
   "source": [
    "min(df['Time'])"
   ]
  },
  {
   "cell_type": "code",
   "execution_count": 10,
   "metadata": {},
   "outputs": [
    {
     "data": {
      "text/plain": [
       "29"
      ]
     },
     "execution_count": 10,
     "metadata": {},
     "output_type": "execute_result"
    }
   ],
   "source": [
    "max(df['Time'])"
   ]
  },
  {
   "cell_type": "code",
   "execution_count": 15,
   "metadata": {},
   "outputs": [],
   "source": [
    "bins = [6,9,16,20,25,29]\n",
    "labels= ['morning_rush_hour','mid_day','afternoon_rush_hour','evening','off_operation']\n",
    "df['Time_group']=pd.cut(df['Time'], bins, labels=labels)"
   ]
  },
  {
   "cell_type": "code",
   "execution_count": 16,
   "metadata": {},
   "outputs": [],
   "source": [
    "##df.to_csv(\"../Data/ttc_subway_delay_2018_2019_ml.csv\")"
   ]
  },
  {
   "cell_type": "markdown",
   "metadata": {},
   "source": [
    "# Data Cleaning"
   ]
  },
  {
   "cell_type": "code",
   "execution_count": 17,
   "metadata": {},
   "outputs": [
    {
     "data": {
      "text/plain": [
       "(6968, 22)"
      ]
     },
     "execution_count": 17,
     "metadata": {},
     "output_type": "execute_result"
    }
   ],
   "source": [
    "df_YU = df[df['line']=='YU']\n",
    "df_YU.shape"
   ]
  },
  {
   "cell_type": "code",
   "execution_count": 18,
   "metadata": {},
   "outputs": [
    {
     "data": {
      "text/plain": [
       "<matplotlib.collections.PathCollection at 0x1f84ecb1dc8>"
      ]
     },
     "execution_count": 18,
     "metadata": {},
     "output_type": "execute_result"
    },
    {
     "data": {
      "image/png": "[encoded data removed]",
      "text/plain": [
       "<Figure size 432x288 with 1 Axes>"
      ]
     },
     "metadata": {
      "needs_background": "light"
     },
     "output_type": "display_data"
    }
   ],
   "source": [
    " %matplotlib inline\n",
    "import matplotlib.pyplot as plt\n",
    "plt.scatter(df_YU['hour'], df_YU['min_delay'])"
   ]
  },
  {
   "cell_type": "code",
   "execution_count": null,
   "metadata": {},
   "outputs": [],
   "source": []
  },
  {
   "cell_type": "code",
   "execution_count": 20,
   "metadata": {},
   "outputs": [],
   "source": [
    "df_YU.to_csv(\"../Data/df_YU.csv\")"
   ]
  },
  {
   "cell_type": "code",
   "execution_count": 21,
   "metadata": {},
   "outputs": [
    {
     "data": {
      "text/plain": [
       "(5379, 22)"
      ]
     },
     "execution_count": 21,
     "metadata": {},
     "output_type": "execute_result"
    }
   ],
   "source": [
    "df_BD = df[df['line']=='BD']\n",
    "df_BD.shape"
   ]
  },
  {
   "cell_type": "code",
   "execution_count": 22,
   "metadata": {},
   "outputs": [],
   "source": [
    "df_BD.to_csv(\"../Data/df_BD.csv\")"
   ]
  },
  {
   "cell_type": "code",
   "execution_count": 23,
   "metadata": {},
   "outputs": [
    {
     "data": {
      "text/plain": [
       "(789, 22)"
      ]
     },
     "execution_count": 23,
     "metadata": {},
     "output_type": "execute_result"
    }
   ],
   "source": [
    "df_SRT = df[df['line']=='SRT']\n",
    "df_SRT.shape"
   ]
  },
  {
   "cell_type": "code",
   "execution_count": 24,
   "metadata": {},
   "outputs": [],
   "source": [
    "df_SRT.to_csv(\"../Data/df_SRT.csv\")"
   ]
  },
  {
   "cell_type": "code",
   "execution_count": 25,
   "metadata": {},
   "outputs": [
    {
     "data": {
      "text/plain": [
       "(363, 22)"
      ]
     },
     "execution_count": 25,
     "metadata": {},
     "output_type": "execute_result"
    }
   ],
   "source": [
    "df_SHP = df[df['line']=='SHP']\n",
    "df_SHP.shape"
   ]
  },
  {
   "cell_type": "code",
   "execution_count": 26,
   "metadata": {},
   "outputs": [],
   "source": [
    "df_SHP.to_csv(\"../Data/df_SHP.csv\")"
   ]
  },
  {
   "cell_type": "code",
   "execution_count": 19,
   "metadata": {},
   "outputs": [
    {
     "data": {
      "text/plain": [
       "min_delay      28\n",
       "Time_group      5\n",
       "station        42\n",
       "day             7\n",
       "code          111\n",
       "dtype: int64"
      ]
     },
     "execution_count": 19,
     "metadata": {},
     "output_type": "execute_result"
    }
   ],
   "source": [
    "data_YU = df_YU[['min_delay','Time_group','station','day','code']]\n",
    "data_YU.nunique()"
   ]
  },
  {
   "cell_type": "code",
   "execution_count": 17,
   "metadata": {},
   "outputs": [
    {
     "data": {
      "text/plain": [
       "min_delay        int64\n",
       "Time_group    category\n",
       "station         object\n",
       "day             object\n",
       "code            object\n",
       "dtype: object"
      ]
     },
     "execution_count": 17,
     "metadata": {},
     "output_type": "execute_result"
    }
   ],
   "source": [
    "data_YU.dtypes"
   ]
  },
  {
   "cell_type": "code",
   "execution_count": null,
   "metadata": {},
   "outputs": [],
   "source": []
  },
  {
   "cell_type": "markdown",
   "metadata": {},
   "source": [
    "#  Data Pre-Processing"
   ]
  },
  {
   "cell_type": "code",
   "execution_count": 18,
   "metadata": {},
   "outputs": [
    {
     "data": {
      "text/plain": [
       "array([[11],\n",
       "       [11],\n",
       "       [ 6],\n",
       "       ...,\n",
       "       [ 3],\n",
       "       [ 5],\n",
       "       [ 3]], dtype=int64)"
      ]
     },
     "execution_count": 18,
     "metadata": {},
     "output_type": "execute_result"
    }
   ],
   "source": [
    "y = data_YU[\"min_delay\"].values.reshape(-1, 1)\n",
    "y"
   ]
  },
  {
   "cell_type": "code",
   "execution_count": 19,
   "metadata": {},
   "outputs": [
    {
     "data": {
      "text/html": [
       "<div>\n",
       "<style scoped>\n",
       "    .dataframe tbody tr th:only-of-type {\n",
       "        vertical-align: middle;\n",
       "    }\n",
       "\n",
       "    .dataframe tbody tr th {\n",
       "        vertical-align: top;\n",
       "    }\n",
       "\n",
       "    .dataframe thead th {\n",
       "        text-align: right;\n",
       "    }\n",
       "</style>\n",
       "<table border=\"1\" class=\"dataframe\">\n",
       "  <thead>\n",
       "    <tr style=\"text-align: right;\">\n",
       "      <th></th>\n",
       "      <th>Time_group</th>\n",
       "      <th>day</th>\n",
       "      <th>station</th>\n",
       "      <th>code</th>\n",
       "    </tr>\n",
       "  </thead>\n",
       "  <tbody>\n",
       "    <tr>\n",
       "      <td>13723</td>\n",
       "      <td>mid_day</td>\n",
       "      <td>Monday</td>\n",
       "      <td>FINCH STATION</td>\n",
       "      <td>MUIE</td>\n",
       "    </tr>\n",
       "    <tr>\n",
       "      <td>13725</td>\n",
       "      <td>mid_day</td>\n",
       "      <td>Monday</td>\n",
       "      <td>SPADINA YUS STATION</td>\n",
       "      <td>PUSTC</td>\n",
       "    </tr>\n",
       "    <tr>\n",
       "      <td>13726</td>\n",
       "      <td>afternoon_rush_hour</td>\n",
       "      <td>Monday</td>\n",
       "      <td>EGLINTON WEST STATION</td>\n",
       "      <td>EUATC</td>\n",
       "    </tr>\n",
       "    <tr>\n",
       "      <td>13730</td>\n",
       "      <td>evening</td>\n",
       "      <td>Monday</td>\n",
       "      <td>SPADINA YUS STATION</td>\n",
       "      <td>PUSTC</td>\n",
       "    </tr>\n",
       "    <tr>\n",
       "      <td>13731</td>\n",
       "      <td>evening</td>\n",
       "      <td>Monday</td>\n",
       "      <td>DUNDAS STATION</td>\n",
       "      <td>SUDP</td>\n",
       "    </tr>\n",
       "  </tbody>\n",
       "</table>\n",
       "</div>"
      ],
      "text/plain": [
       "                Time_group     day                station   code\n",
       "13723              mid_day  Monday          FINCH STATION   MUIE\n",
       "13725              mid_day  Monday    SPADINA YUS STATION  PUSTC\n",
       "13726  afternoon_rush_hour  Monday  EGLINTON WEST STATION  EUATC\n",
       "13730              evening  Monday    SPADINA YUS STATION  PUSTC\n",
       "13731              evening  Monday         DUNDAS STATION   SUDP"
      ]
     },
     "execution_count": 19,
     "metadata": {},
     "output_type": "execute_result"
    }
   ],
   "source": [
    "X = data_YU[['Time_group','day','station','code']]\n",
    "X.tail()"
   ]
  },
  {
   "cell_type": "code",
   "execution_count": 20,
   "metadata": {},
   "outputs": [
    {
     "name": "stdout",
     "output_type": "stream",
     "text": [
      "(6968, 4) (6968, 1)\n"
     ]
    }
   ],
   "source": [
    "print(X.shape, y.shape)"
   ]
  },
  {
   "cell_type": "code",
   "execution_count": 21,
   "metadata": {},
   "outputs": [
    {
     "data": {
      "text/html": [
       "<div>\n",
       "<style scoped>\n",
       "    .dataframe tbody tr th:only-of-type {\n",
       "        vertical-align: middle;\n",
       "    }\n",
       "\n",
       "    .dataframe tbody tr th {\n",
       "        vertical-align: top;\n",
       "    }\n",
       "\n",
       "    .dataframe thead th {\n",
       "        text-align: right;\n",
       "    }\n",
       "</style>\n",
       "<table border=\"1\" class=\"dataframe\">\n",
       "  <thead>\n",
       "    <tr style=\"text-align: right;\">\n",
       "      <th></th>\n",
       "      <th>Time_group_morning_rush_hour</th>\n",
       "      <th>Time_group_mid_day</th>\n",
       "      <th>Time_group_afternoon_rush_hour</th>\n",
       "      <th>Time_group_evening</th>\n",
       "      <th>Time_group_off_operation</th>\n",
       "      <th>day_Friday</th>\n",
       "      <th>day_Monday</th>\n",
       "      <th>day_Saturday</th>\n",
       "      <th>day_Sunday</th>\n",
       "      <th>day_Thursday</th>\n",
       "      <th>...</th>\n",
       "      <th>code_TUML</th>\n",
       "      <th>code_TUMVS</th>\n",
       "      <th>code_TUNIP</th>\n",
       "      <th>code_TUNOA</th>\n",
       "      <th>code_TUO</th>\n",
       "      <th>code_TUOS</th>\n",
       "      <th>code_TUS</th>\n",
       "      <th>code_TUSC</th>\n",
       "      <th>code_TUST</th>\n",
       "      <th>code_TUSUP</th>\n",
       "    </tr>\n",
       "  </thead>\n",
       "  <tbody>\n",
       "    <tr>\n",
       "      <td>0</td>\n",
       "      <td>0</td>\n",
       "      <td>0</td>\n",
       "      <td>0</td>\n",
       "      <td>0</td>\n",
       "      <td>1</td>\n",
       "      <td>0</td>\n",
       "      <td>0</td>\n",
       "      <td>0</td>\n",
       "      <td>0</td>\n",
       "      <td>0</td>\n",
       "      <td>...</td>\n",
       "      <td>0</td>\n",
       "      <td>0</td>\n",
       "      <td>0</td>\n",
       "      <td>0</td>\n",
       "      <td>0</td>\n",
       "      <td>0</td>\n",
       "      <td>0</td>\n",
       "      <td>0</td>\n",
       "      <td>0</td>\n",
       "      <td>0</td>\n",
       "    </tr>\n",
       "    <tr>\n",
       "      <td>1</td>\n",
       "      <td>0</td>\n",
       "      <td>0</td>\n",
       "      <td>0</td>\n",
       "      <td>0</td>\n",
       "      <td>1</td>\n",
       "      <td>0</td>\n",
       "      <td>0</td>\n",
       "      <td>0</td>\n",
       "      <td>0</td>\n",
       "      <td>0</td>\n",
       "      <td>...</td>\n",
       "      <td>0</td>\n",
       "      <td>0</td>\n",
       "      <td>0</td>\n",
       "      <td>0</td>\n",
       "      <td>0</td>\n",
       "      <td>0</td>\n",
       "      <td>0</td>\n",
       "      <td>0</td>\n",
       "      <td>0</td>\n",
       "      <td>0</td>\n",
       "    </tr>\n",
       "    <tr>\n",
       "      <td>2</td>\n",
       "      <td>0</td>\n",
       "      <td>0</td>\n",
       "      <td>0</td>\n",
       "      <td>0</td>\n",
       "      <td>1</td>\n",
       "      <td>0</td>\n",
       "      <td>0</td>\n",
       "      <td>0</td>\n",
       "      <td>0</td>\n",
       "      <td>0</td>\n",
       "      <td>...</td>\n",
       "      <td>0</td>\n",
       "      <td>0</td>\n",
       "      <td>0</td>\n",
       "      <td>0</td>\n",
       "      <td>0</td>\n",
       "      <td>0</td>\n",
       "      <td>0</td>\n",
       "      <td>0</td>\n",
       "      <td>0</td>\n",
       "      <td>0</td>\n",
       "    </tr>\n",
       "    <tr>\n",
       "      <td>3</td>\n",
       "      <td>0</td>\n",
       "      <td>0</td>\n",
       "      <td>0</td>\n",
       "      <td>0</td>\n",
       "      <td>1</td>\n",
       "      <td>0</td>\n",
       "      <td>0</td>\n",
       "      <td>0</td>\n",
       "      <td>0</td>\n",
       "      <td>0</td>\n",
       "      <td>...</td>\n",
       "      <td>0</td>\n",
       "      <td>0</td>\n",
       "      <td>0</td>\n",
       "      <td>0</td>\n",
       "      <td>0</td>\n",
       "      <td>0</td>\n",
       "      <td>0</td>\n",
       "      <td>0</td>\n",
       "      <td>0</td>\n",
       "      <td>0</td>\n",
       "    </tr>\n",
       "    <tr>\n",
       "      <td>4</td>\n",
       "      <td>1</td>\n",
       "      <td>0</td>\n",
       "      <td>0</td>\n",
       "      <td>0</td>\n",
       "      <td>0</td>\n",
       "      <td>0</td>\n",
       "      <td>0</td>\n",
       "      <td>0</td>\n",
       "      <td>0</td>\n",
       "      <td>0</td>\n",
       "      <td>...</td>\n",
       "      <td>0</td>\n",
       "      <td>0</td>\n",
       "      <td>0</td>\n",
       "      <td>0</td>\n",
       "      <td>0</td>\n",
       "      <td>0</td>\n",
       "      <td>0</td>\n",
       "      <td>0</td>\n",
       "      <td>0</td>\n",
       "      <td>0</td>\n",
       "    </tr>\n",
       "  </tbody>\n",
       "</table>\n",
       "<p>5 rows × 165 columns</p>\n",
       "</div>"
      ],
      "text/plain": [
       "   Time_group_morning_rush_hour  Time_group_mid_day  \\\n",
       "0                             0                   0   \n",
       "1                             0                   0   \n",
       "2                             0                   0   \n",
       "3                             0                   0   \n",
       "4                             1                   0   \n",
       "\n",
       "   Time_group_afternoon_rush_hour  Time_group_evening  \\\n",
       "0                               0                   0   \n",
       "1                               0                   0   \n",
       "2                               0                   0   \n",
       "3                               0                   0   \n",
       "4                               0                   0   \n",
       "\n",
       "   Time_group_off_operation  day_Friday  day_Monday  day_Saturday  day_Sunday  \\\n",
       "0                         1           0           0             0           0   \n",
       "1                         1           0           0             0           0   \n",
       "2                         1           0           0             0           0   \n",
       "3                         1           0           0             0           0   \n",
       "4                         0           0           0             0           0   \n",
       "\n",
       "   day_Thursday  ...  code_TUML  code_TUMVS  code_TUNIP  code_TUNOA  code_TUO  \\\n",
       "0             0  ...          0           0           0           0         0   \n",
       "1             0  ...          0           0           0           0         0   \n",
       "2             0  ...          0           0           0           0         0   \n",
       "3             0  ...          0           0           0           0         0   \n",
       "4             0  ...          0           0           0           0         0   \n",
       "\n",
       "   code_TUOS  code_TUS  code_TUSC  code_TUST  code_TUSUP  \n",
       "0          0         0          0          0           0  \n",
       "1          0         0          0          0           0  \n",
       "2          0         0          0          0           0  \n",
       "3          0         0          0          0           0  \n",
       "4          0         0          0          0           0  \n",
       "\n",
       "[5 rows x 165 columns]"
      ]
     },
     "execution_count": 21,
     "metadata": {},
     "output_type": "execute_result"
    }
   ],
   "source": [
    "X_encoded= pd.get_dummies(X)\n",
    "X_encoded.head()"
   ]
  },
  {
   "cell_type": "code",
   "execution_count": 22,
   "metadata": {},
   "outputs": [],
   "source": [
    "from sklearn.model_selection import train_test_split\n"
   ]
  },
  {
   "cell_type": "code",
   "execution_count": 23,
   "metadata": {},
   "outputs": [
    {
     "name": "stdout",
     "output_type": "stream",
     "text": [
      "(2787, 165) (2787, 1)\n"
     ]
    }
   ],
   "source": [
    "X_train, X_test, y_train, y_test = train_test_split(\n",
    "    X_encoded, y, test_size=0.6)\n",
    "print(X_train.shape, y_train.shape)"
   ]
  },
  {
   "cell_type": "code",
   "execution_count": 36,
   "metadata": {},
   "outputs": [
    {
     "name": "stdout",
     "output_type": "stream",
     "text": [
      "(4181, 165) (4181, 1)\n"
     ]
    }
   ],
   "source": [
    "print(X_test.shape, y_test.shape)"
   ]
  },
  {
   "cell_type": "code",
   "execution_count": 24,
   "metadata": {},
   "outputs": [
    {
     "data": {
      "text/plain": [
       "LinearRegression(copy_X=True, fit_intercept=True, n_jobs=None, normalize=False)"
      ]
     },
     "execution_count": 24,
     "metadata": {},
     "output_type": "execute_result"
    }
   ],
   "source": [
    "from sklearn.linear_model import LinearRegression\n",
    "model = LinearRegression()\n",
    "# Fitting our model with all of our features in X\n",
    "model.fit(X_train, y_train)"
   ]
  },
  {
   "cell_type": "code",
   "execution_count": 31,
   "metadata": {},
   "outputs": [
    {
     "name": "stdout",
     "output_type": "stream",
     "text": [
      "MSE: 1.4940817005974842e+24, R2: -9.682994815423083e+22\n"
     ]
    }
   ],
   "source": [
    "from sklearn.metrics import mean_squared_error\n",
    "predictions = model.predict(X_test)\n",
    "MSE = mean_squared_error(y_test, predictions)\n",
    "r2 = model.score(X_test, y_test)\n",
    "print(f\"MSE: {MSE}, R2: {r2}\")"
   ]
  },
  {
   "cell_type": "markdown",
   "metadata": {},
   "source": [
    " A \"good\" MSE score will be close to zero while a \"good\" R2 Score will be close to 1. R2 Score is the default scoring for many of the Sklearn models"
   ]
  },
  {
   "cell_type": "code",
   "execution_count": 34,
   "metadata": {},
   "outputs": [
    {
     "name": "stdout",
     "output_type": "stream",
     "text": [
      "Training Data Score: 0.31782804765849526\n",
      "Testing Data Score: -9.682994815423083e+22\n"
     ]
    }
   ],
   "source": [
    "print(f\"Training Data Score: {model.score(X_train, y_train)}\")\n",
    "print(f\"Testing Data Score: {model.score(X_test, y_test)}\")"
   ]
  },
  {
   "cell_type": "code",
   "execution_count": 47,
   "metadata": {},
   "outputs": [],
   "source": [
    "##predictions = model.predict(X_test)\n",
    "##pd.DataFrame({\"Prediction\": predictions, \"Actual\": y_test})"
   ]
  },
  {
   "cell_type": "code",
   "execution_count": 27,
   "metadata": {},
   "outputs": [
    {
     "data": {
      "image/png": "[encoded data removed]",
      "text/plain": [
       "<Figure size 432x288 with 1 Axes>"
      ]
     },
     "metadata": {
      "needs_background": "light"
     },
     "output_type": "display_data"
    }
   ],
   "source": [
    "pre_test=model.predict(X_test)\n",
    "plt.scatter(pre_train, pre_train - y_train, c=\"red\", label=\"Training Data\")\n",
    "plt.scatter(pre_test, pre_test - y_test, c=\"blue\", label=\"Testing Data\")\n",
    "plt.legend()\n",
    "\n",
    "plt.hlines(y=0, xmin=predictions.min(), xmax=predictions.max())\n",
    "plt.title(\"Residual Plot\")\n",
    "plt.show()"
   ]
  },
  {
   "cell_type": "markdown",
   "metadata": {},
   "source": [
    "# Standard Scaler"
   ]
  },
  {
   "cell_type": "code",
   "execution_count": 38,
   "metadata": {},
   "outputs": [],
   "source": [
    "from sklearn.preprocessing import StandardScaler\n",
    "X_scaler = StandardScaler().fit(X_train)\n",
    "y_scaler = StandardScaler().fit(y_train)"
   ]
  },
  {
   "cell_type": "code",
   "execution_count": 39,
   "metadata": {},
   "outputs": [],
   "source": [
    "X_train_scaled = X_scaler.transform(X_train)\n",
    "X_test_scaled = X_scaler.transform(X_test)\n",
    "#y_train_scaled = y_scaler.transform(y_train)\n",
    "#y_test_scaled = y_scaler.transform(y_test)"
   ]
  },
  {
   "cell_type": "code",
   "execution_count": 40,
   "metadata": {},
   "outputs": [
    {
     "name": "stdout",
     "output_type": "stream",
     "text": [
      "Training Score: 0.31716764466414293\n",
      "Testing Score: -6.547583945488219e+23\n"
     ]
    }
   ],
   "source": [
    "from sklearn.linear_model import LinearRegression\n",
    "model = LinearRegression()\n",
    "model.fit(X_train_scaled, y_train)\n",
    "### END SOLUTION\n",
    "training_score = model.score(X_train_scaled, y_train)\n",
    "testing_score = model.score(X_test_scaled, y_test)\n",
    "\n",
    "### END SOLUTION \n",
    "\n",
    "print(f\"Training Score: {training_score}\")\n",
    "print(f\"Testing Score: {testing_score}\")"
   ]
  },
  {
   "cell_type": "code",
   "execution_count": 41,
   "metadata": {},
   "outputs": [
    {
     "name": "stdout",
     "output_type": "stream",
     "text": [
      "MSE: 7.79048599207879e+23, R2: -6.547583945488219e+23\n"
     ]
    }
   ],
   "source": [
    " from sklearn.metrics import mean_squared_error\n",
    "\n",
    "predictions = model.predict(X_test_scaled)\n",
    "MSE = mean_squared_error(y_test_scaled, predictions)\n",
    "r2 = model.score(X_test_scaled, y_test_scaled)\n",
    "\n",
    "print(f\"MSE: {MSE}, R2: {r2}\")"
   ]
  },
  {
   "cell_type": "markdown",
   "metadata": {},
   "source": [
    "# make predictions"
   ]
  },
  {
   "cell_type": "code",
   "execution_count": 42,
   "metadata": {},
   "outputs": [
    {
     "data": {
      "image/png": "[encoded data removed]",
      "text/plain": [
       "<Figure size 432x288 with 1 Axes>"
      ]
     },
     "metadata": {
      "needs_background": "light"
     },
     "output_type": "display_data"
    }
   ],
   "source": [
    "# Make predictions using the X_test_scaled data\n",
    "# Scatter plot y_test_scaled vs predictions\n",
    "\n",
    "plt.scatter(model.predict(X_train_scaled), model.predict(X_train_scaled) - y_train_scaled, c=\"blue\", label=\"Training Data\")\n",
    "plt.scatter(model.predict(X_test_scaled), model.predict(X_test_scaled) - y_test_scaled, c=\"red\", label=\"Testing Data\")\n",
    "plt.legend()\n",
    "plt.hlines(y=0, xmin=y_test_scaled.min(), xmax=y_test_scaled.max())\n",
    "plt.title(\"Residual Plot\")\n",
    "plt.show()"
   ]
  },
  {
   "cell_type": "code",
   "execution_count": 45,
   "metadata": {},
   "outputs": [
    {
     "ename": "SyntaxError",
     "evalue": "invalid syntax (<ipython-input-45-4adb45351b0c>, line 2)",
     "output_type": "error",
     "traceback": [
      "\u001b[1;36m  File \u001b[1;32m\"<ipython-input-45-4adb45351b0c>\"\u001b[1;36m, line \u001b[1;32m2\u001b[0m\n\u001b[1;33m    pd.DataFrame({\"Prediction\": {predictions}, \"Actual\": {y_test})\u001b[0m\n\u001b[1;37m                                                                 ^\u001b[0m\n\u001b[1;31mSyntaxError\u001b[0m\u001b[1;31m:\u001b[0m invalid syntax\n"
     ]
    }
   ],
   "source": [
    "predictions = model.predict(X_test_scaled)\n",
    "pd.DataFrame({\"Prediction\": predictions, \"Actual\": y_test)"
   ]
  },
  {
   "cell_type": "code",
   "execution_count": null,
   "metadata": {},
   "outputs": [],
   "source": []
  }
 ],
 "metadata": {
  "kernelspec": {
   "display_name": "Python 3.7.4 64-bit ('super': virtualenv)",
   "language": "python",
   "name": "python37464bitsupervirtualenve687e24a3a4141a8b6a9e2b32ae60551"
  },
  "language_info": {
   "codemirror_mode": {
    "name": "ipython",
    "version": 3
   },
   "file_extension": ".py",
   "mimetype": "text/x-python",
   "name": "python",
   "nbconvert_exporter": "python",
   "pygments_lexer": "ipython3",
   "version": "3.7.4"
  }
 },
 "nbformat": 4,
 "nbformat_minor": 2
}
